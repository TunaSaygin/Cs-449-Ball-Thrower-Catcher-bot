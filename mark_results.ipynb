{
 "cells": [
  {
   "cell_type": "code",
   "execution_count": null,
   "metadata": {},
   "outputs": [],
   "source": [
    "import robotic as ry\n",
    "import numpy as np\n",
    "import json"
   ]
  },
  {
   "cell_type": "code",
   "execution_count": null,
   "metadata": {},
   "outputs": [],
   "source": [
    "def add_markers_from_json(json_file):\n",
    "    # Load the JSON data\n",
    "    with open(json_file, \"r\") as f:\n",
    "        data = json.load(f)\n",
    "    \n",
    "    C = ry.Config()\n",
    "    C.addFile(\"throwing_bare.g\")\n",
    "    \n",
    "    # Iterate through each point in the JSON data\n",
    "    for idx, entry in enumerate(data):\n",
    "        point = entry[\"point\"]\n",
    "        result = entry[\"result\"]\n",
    "\n",
    "        # Determine the color based on the result\n",
    "        color = [0, 1, 0] if result else [1, 0, 0]  \n",
    "\n",
    "        # Add marker frame\n",
    "        frame_name = f\"trajectory-{idx}\"\n",
    "        C.addFrame(frame_name).setShape(ry.ST.marker, [0.2]).setColor(color).setPosition(point)\n",
    "\n",
    "    # Return the configuration (or process further as needed)\n",
    "    return C\n"
   ]
  },
  {
   "cell_type": "code",
   "execution_count": null,
   "metadata": {},
   "outputs": [],
   "source": [
    "json_name = \"test_res_50cm.json\"\n",
    "C = add_markers_from_json(json_name)\n",
    "C.view()"
   ]
  },
  {
   "cell_type": "code",
   "execution_count": null,
   "metadata": {},
   "outputs": [],
   "source": [
    "del C"
   ]
  },
  {
   "cell_type": "code",
   "execution_count": null,
   "metadata": {},
   "outputs": [],
   "source": []
  }
 ],
 "metadata": {
  "kernelspec": {
   "display_name": "rai_venv",
   "language": "python",
   "name": "python3"
  },
  "language_info": {
   "codemirror_mode": {
    "name": "ipython",
    "version": 3
   },
   "file_extension": ".py",
   "mimetype": "text/x-python",
   "name": "python",
   "nbconvert_exporter": "python",
   "pygments_lexer": "ipython3",
   "version": "3.10.12"
  }
 },
 "nbformat": 4,
 "nbformat_minor": 2
}
