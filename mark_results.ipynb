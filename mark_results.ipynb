{
 "cells": [
  {
   "cell_type": "code",
   "execution_count": 14,
   "metadata": {},
   "outputs": [],
   "source": [
    "import robotic as ry\n",
    "import numpy as np\n",
    "import json\n",
    "import matplotlib.pyplot as plt"
   ]
  },
  {
   "cell_type": "code",
   "execution_count": null,
   "metadata": {},
   "outputs": [
    {
     "ename": "KeyError",
     "evalue": "'deviation:'",
     "output_type": "error",
     "traceback": [
      "\u001b[0;31m---------------------------------------------------------------------------\u001b[0m",
      "\u001b[0;31mKeyError\u001b[0m                                  Traceback (most recent call last)",
      "Cell \u001b[0;32mIn[15], line 39\u001b[0m\n\u001b[1;32m     36\u001b[0m json_name \u001b[38;5;241m=\u001b[39m \u001b[38;5;124m\"\u001b[39m\u001b[38;5;124mtest_res_50cm(withDev).json\u001b[39m\u001b[38;5;124m\"\u001b[39m\n\u001b[1;32m     38\u001b[0m \u001b[38;5;66;03m# Process JSON and compute deviations and distances\u001b[39;00m\n\u001b[0;32m---> 39\u001b[0m C, deviations, distances \u001b[38;5;241m=\u001b[39m \u001b[43madd_markers_from_json\u001b[49m\u001b[43m(\u001b[49m\u001b[43mjson_name\u001b[49m\u001b[43m)\u001b[49m\n\u001b[1;32m     41\u001b[0m \u001b[38;5;66;03m# Visualize the configuration\u001b[39;00m\n\u001b[1;32m     42\u001b[0m C\u001b[38;5;241m.\u001b[39mview()\n",
      "Cell \u001b[0;32mIn[15], line 18\u001b[0m, in \u001b[0;36madd_markers_from_json\u001b[0;34m(json_file)\u001b[0m\n\u001b[1;32m     16\u001b[0m point \u001b[38;5;241m=\u001b[39m entry[\u001b[38;5;124m\"\u001b[39m\u001b[38;5;124mpoint\u001b[39m\u001b[38;5;124m\"\u001b[39m]\n\u001b[1;32m     17\u001b[0m result \u001b[38;5;241m=\u001b[39m entry[\u001b[38;5;124m\"\u001b[39m\u001b[38;5;124mresult\u001b[39m\u001b[38;5;124m\"\u001b[39m]\n\u001b[0;32m---> 18\u001b[0m deviation \u001b[38;5;241m=\u001b[39m \u001b[43mentry\u001b[49m\u001b[43m[\u001b[49m\u001b[38;5;124;43m\"\u001b[39;49m\u001b[38;5;124;43mdeviation:\u001b[39;49m\u001b[38;5;124;43m\"\u001b[39;49m\u001b[43m]\u001b[49m\n\u001b[1;32m     19\u001b[0m deviations\u001b[38;5;241m.\u001b[39mappend(deviation)\n\u001b[1;32m     21\u001b[0m \u001b[38;5;66;03m# Calculate distance from the robot to the bin\u001b[39;00m\n",
      "\u001b[0;31mKeyError\u001b[0m: 'deviation:'"
     ]
    }
   ],
   "source": [
    "def add_markers_from_json(json_file):\n",
    "    import numpy as np\n",
    "\n",
    "    # Load the JSON data\n",
    "    with open(json_file, \"r\") as f:\n",
    "        data = json.load(f)\n",
    "    \n",
    "    C = ry.Config()\n",
    "    C.addFile(\"throwing_bare.g\")\n",
    "    robot_pos = C.getFrame('l_panda_base').getPosition()\n",
    "\n",
    "    deviations = []\n",
    "    distances = []\n",
    "    # Iterate through each point in the JSON data\n",
    "    for idx, entry in enumerate(data):\n",
    "        point = entry[\"point\"]\n",
    "        result = entry[\"result\"]\n",
    "        deviation = entry[\"deviation\"]\n",
    "        deviations.append(deviation)\n",
    "        \n",
    "        # Calculate distance from the robot to the bin\n",
    "        bin_distance = np.linalg.norm(np.array(point[:2]) - np.array(robot_pos[:2]))\n",
    "        distances.append(bin_distance)\n",
    "\n",
    "        # Determine the color based on the result\n",
    "        color = [0, 1, 0] if result else [1, 0, 0]  \n",
    "\n",
    "        # Add marker frame\n",
    "        frame_name = f\"trajectory-{idx}\"\n",
    "        C.addFrame(frame_name).setShape(ry.ST.marker, [0.2]).setColor(color).setPosition(point)\n",
    "\n",
    "    # Return the configuration and computed values\n",
    "    return C, deviations, distances\n",
    "\n",
    "\n",
    "json_name = \"test_res_50cm(withDev).json\"\n",
    "\n",
    "# Process JSON and compute deviations and distances\n",
    "C, deviations, distances = add_markers_from_json(json_name)\n",
    "\n",
    "# Visualize the configuration\n",
    "C.view()\n",
    "\n",
    "# Plot deviation vs bin distance\n",
    "import matplotlib.pyplot as plt\n",
    "\n",
    "plt.figure(figsize=(10, 6))\n",
    "plt.scatter(distances, deviations, color='blue', label='Deviation vs. Distance')\n",
    "plt.xlabel(\"Distance from Robot to Bin (m)\")\n",
    "plt.ylabel(\"Deviation from Target (m)\")\n",
    "plt.title(\"Deviation Analysis Based on Distance to Bin\")\n",
    "plt.grid(True)\n",
    "plt.legend()\n",
    "plt.show()\n"
   ]
  },
  {
   "cell_type": "code",
   "execution_count": null,
   "metadata": {},
   "outputs": [],
   "source": [
    "json_name = \"test_res_50cm(withDev).json\"\n",
    "C, deviations = add_markers_from_json(json_name)\n",
    "C.view()\n",
    "\n",
    "plt.figure(figsize=(10, 6))\n",
    "plt.plot(range(len(deviations)), deviations, marker='o', linestyle='-', label='Deviation per throw')\n",
    "plt.xlabel(\"Throw Attempt\")\n",
    "plt.ylabel(\"Deviation from Target (m)\")\n",
    "plt.title(\"Deviation Analysis of Thrower Robot\")\n",
    "plt.grid(True)\n",
    "plt.legend()\n",
    "plt.show()"
   ]
  },
  {
   "cell_type": "code",
   "execution_count": 7,
   "metadata": {},
   "outputs": [],
   "source": [
    "del C"
   ]
  },
  {
   "cell_type": "code",
   "execution_count": null,
   "metadata": {},
   "outputs": [],
   "source": []
  }
 ],
 "metadata": {
  "kernelspec": {
   "display_name": "rai_venv",
   "language": "python",
   "name": "python3"
  },
  "language_info": {
   "codemirror_mode": {
    "name": "ipython",
    "version": 3
   },
   "file_extension": ".py",
   "mimetype": "text/x-python",
   "name": "python",
   "nbconvert_exporter": "python",
   "pygments_lexer": "ipython3",
   "version": "3.10.12"
  }
 },
 "nbformat": 4,
 "nbformat_minor": 2
}
