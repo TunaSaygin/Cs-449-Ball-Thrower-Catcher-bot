{
 "cells": [
  {
   "cell_type": "markdown",
   "metadata": {},
   "source": [
    "### Init"
   ]
  },
  {
   "cell_type": "code",
   "execution_count": 37,
   "metadata": {},
   "outputs": [
    {
     "data": {
      "text/plain": [
       "0"
      ]
     },
     "execution_count": 37,
     "metadata": {},
     "output_type": "execute_result"
    }
   ],
   "source": [
    "import robotic as ry\n",
    "import time\n",
    "\n",
    "try:\n",
    "    del C\n",
    "    del bot\n",
    "except:\n",
    "    pass\n",
    "\n",
    "C = ry.Config()\n",
    "# C.watchFile(\"throwing1.g\")\n",
    "C.addFile(\"throwing1.g\")\n",
    "qHome = C.getJointState()\n",
    "C.view()\n",
    "#time.sleep(30)\n",
    "C.getFrame('cargo').unLink()\n",
    "C.view()"
   ]
  },
  {
   "cell_type": "markdown",
   "metadata": {},
   "source": [
    "### Komo probs"
   ]
  },
  {
   "cell_type": "code",
   "execution_count": 38,
   "metadata": {},
   "outputs": [
    {
     "data": {
      "text/plain": [
       "0"
      ]
     },
     "execution_count": 38,
     "metadata": {},
     "output_type": "execute_result"
    }
   ],
   "source": [
    "way0 = C.addFrame('way0', 'start_area')\n",
    "\n",
    "way0.setShape(ry.ST.marker, size=[.1])\n",
    "way0.setRelativePose('t(0.2 0.15 0.1) d(90 0 0 0)')\n",
    "\n",
    "way1 = C.addFrame('way1', 'start_area')\n",
    "\n",
    "way1.setShape(ry.ST.marker, size=[.2])\n",
    "way1.setPosition(C.getFrame('l_gripper').getPosition())\n",
    "\n",
    "C.view()"
   ]
  },
  {
   "cell_type": "code",
   "execution_count": 39,
   "metadata": {},
   "outputs": [],
   "source": [
    "def pre_grasp_komo(C, gripper_name, grasp_frame_name, q0, qHome):\n",
    "    komo = ry.KOMO(C, 3, 1, 0, True)\n",
    "    komo.addObjective([], ry.FS.accumulatedCollisions, [], ry.OT.eq, [1e1])\n",
    "    komo.addObjective([], ry.FS.jointState, [], ry.OT.sos, [1e-1], q0) \n",
    "    komo.addObjective([], ry.FS.jointState, [], ry.OT.sos, [1e-1], qHome)\n",
    "\n",
    "    komo.addObjective([1., 3.], ry.FS.positionRel, [gripper_name, grasp_frame_name], ry.OT.eq, [1e1], [-0.08, 0, 0])  \n",
    "\n",
    "    # komo.addObjective([1., 3.], ry.FS.scalarProductXX, [gripper_name, grasp_frame_name], ry.OT.eq, [1e1], [0]) \n",
    "    komo.addObjective([1., 3.], ry.FS.scalarProductYY, [gripper_name, grasp_frame_name], ry.OT.eq, [1e2], [1]) \n",
    "    # komo.addObjective([1., 3.], ry.FS.scalarProductZZ, [gripper_name, grasp_frame_name], ry.OT.eq, [1e1], [0]) \n",
    "\n",
    "    komo.addObjective([1., 3.], ry.FS.scalarProductXZ, [grasp_frame_name, gripper_name], ry.OT.eq, [1e1], [-1]) \n",
    "\n",
    "\n",
    "    ret = ry.NLP_Solver(komo.nlp()).setOptions(stopTolerance=1e-2, verbose=4).solve()\n",
    "    print(ret)\n",
    "    return komo"
   ]
  },
  {
   "cell_type": "code",
   "execution_count": 40,
   "metadata": {},
   "outputs": [],
   "source": [
    "def create_grasp_komo(C, gripper_name, grasp_frame_name, q0, qHome):\n",
    "    komo = ry.KOMO(C, 3, 1, 0, True)\n",
    "    komo.addObjective([], ry.FS.accumulatedCollisions, [], ry.OT.eq, [1e-1])\n",
    "    komo.addObjective([], ry.FS.jointState, [], ry.OT.sos, [1e-1], q0) \n",
    "    komo.addObjective([], ry.FS.jointState, [], ry.OT.sos, [1e-1], qHome)\n",
    "\n",
    "    komo.addObjective([1., 3.], ry.FS.positionRel, [gripper_name, grasp_frame_name], ry.OT.eq, [1e1], [-0.08, 0, 0])  \n",
    "\n",
    "    # komo.addObjective([1., 3.], ry.FS.scalarProductXX, [gripper_name, grasp_frame_name], ry.OT.eq, [1e1], [0]) \n",
    "    komo.addObjective([1., 3.], ry.FS.scalarProductYY, [gripper_name, grasp_frame_name], ry.OT.eq, [1e2], [1]) \n",
    "    # komo.addObjective([1., 3.], ry.FS.scalarProductZZ, [gripper_name, grasp_frame_name], ry.OT.eq, [1e1], [0]) \n",
    "\n",
    "    komo.addObjective([1., 3.], ry.FS.scalarProductXZ, [grasp_frame_name, gripper_name], ry.OT.eq, [1e1], [-1]) \n",
    "\n",
    "\n",
    "    ret = ry.NLP_Solver(komo.nlp()).setOptions(stopTolerance=1e-2, verbose=4).solve()\n",
    "    print(ret)\n",
    "    return komo"
   ]
  },
  {
   "cell_type": "code",
   "execution_count": 41,
   "metadata": {},
   "outputs": [],
   "source": [
    "def throw_position_komo(C, gripper_name, grasp_frame_name):\n",
    "    komo = ry.KOMO(C, 3, 1, 0, True)\n",
    "    komo.addObjective([1.], ry.FS.positionDiff, [gripper_name, grasp_frame_name], ry.OT.eq, [1e1], [0, 0, 0])\n",
    "    komo.addObjective([3.], ry.FS.scalarProductXX, [gripper_name, 'way0'], ry.OT.eq, [1e1], [0])\n",
    "    ret2 = ry.NLP_Solver(komo.nlp()).setOptions(stopTolerance=1e-2, verbose=4).solve()\n",
    "    print(ret2)\n",
    "    return komo"
   ]
  },
  {
   "cell_type": "code",
   "execution_count": 42,
   "metadata": {},
   "outputs": [],
   "source": [
    "def post_throw_position_komo(C, gripper_name, throw_waypoint_frame):\n",
    "    komo = ry.KOMO(C, 3, 1, 0, True)\n",
    "    komo.addObjective([1.], ry.FS.positionDiff, [gripper_name, throw_waypoint_frame], ry.OT.eq, [1e1], [0, 0, 0])\n",
    "    komo.addObjective([3.], ry.FS.scalarProductXX, [gripper_name, 'way1'], ry.OT.eq, [1e1], [0])\n",
    "    ret3 = ry.NLP_Solver(komo.nlp()).setOptions(stopTolerance=1e-2, verbose=4).solve()\n",
    "    print(ret3)\n",
    "    return komo"
   ]
  },
  {
   "cell_type": "code",
   "execution_count": 43,
   "metadata": {},
   "outputs": [
    {
     "name": "stdout",
     "output_type": "stream",
     "text": [
      "{ time: 0.035826, evals: 205, done: 1, feasible: 1, sos: 0.868567, f: 0, ineq: 0, eq: 0.00275528 }\n",
      "{ time: 0.061558, evals: 331, done: 1, feasible: 1, sos: 0.916291, f: 0, ineq: 0, eq: 0.00573117 }\n",
      "{ time: 0.000331, evals: 5, done: 1, feasible: 1, sos: 0, f: 0, ineq: 0, eq: 0.00262371 }\n",
      "{ time: 0.000255, evals: 4, done: 1, feasible: 1, sos: 0, f: 0, ineq: 0, eq: 0.000185717 }\n"
     ]
    }
   ],
   "source": [
    "q0 = C.getJointState()\n",
    "komo0 = pre_grasp_komo(C, 'l_gripper', 'paddle_pick_point', q0, qHome)\n",
    "path0 = komo0.getPath()\n",
    "\n",
    "komo = create_grasp_komo(C, 'l_gripper', 'paddle', q0, qHome)\n",
    "path = komo.getPath()\n",
    "\n",
    "komo2 = throw_position_komo(C, 'l_gripper', 'cargo')\n",
    "path2 = komo2.getPath()\n",
    "\n",
    "komo3 = post_throw_position_komo(C, 'l_gripper', 'way1')\n",
    "path3 = komo3.getPath()"
   ]
  },
  {
   "cell_type": "markdown",
   "metadata": {},
   "source": [
    "### Pick up ball"
   ]
  },
  {
   "cell_type": "code",
   "execution_count": 44,
   "metadata": {},
   "outputs": [],
   "source": [
    "bot = ry.BotOp(C, useRealRobot=False)\n",
    "bot.home(C)\n",
    "# print(path.shape)\n",
    "bot.move(path0, [1.])\n",
    "bot.move(path, [3.])\n",
    "while bot.getTimeToEnd() > 0:\n",
    "    bot.sync(C, .1)\n",
    "\n",
    "bot.gripperCloseGrasp(ry._left, 'paddle') \n",
    "while not bot.gripperDone(ry._left):\n",
    "    bot.sync(C, .1)\n",
    "\n",
    "C.getFrame('paddle').unLink()\n",
    "C.attach('l_gripper', 'paddle')\n",
    "\n",
    "# print(path2.shape)\n",
    "# bot.move(path2, [3.])\n",
    "# while bot.getTimeToEnd() > 0:\n",
    "#     bot.sync(C, .1)\n",
    "\n",
    "# pre_throw_pos = C.getFrame('l_gripper').getPosition()\n",
    "\n",
    "# bot.move(path3, [3.])\n",
    "# bot.gripperMove(ry._left, width=0.075, speed=5)\n",
    "# while bot.getTimeToEnd() > 0:\n",
    "#     bot.sync(C, .1)\n",
    "\n",
    "\n",
    "# bot.home(C)"
   ]
  },
  {
   "cell_type": "markdown",
   "metadata": {},
   "source": [
    "### Calculate throw"
   ]
  },
  {
   "cell_type": "code",
   "execution_count": 45,
   "metadata": {},
   "outputs": [
    {
     "name": "stdout",
     "output_type": "stream",
     "text": [
      "[array([1.25      , 2.00074641, 0.19983573])]\n"
     ]
    },
    {
     "name": "stderr",
     "output_type": "stream",
     "text": [
      "/home/tuna/.local/lib/python3.10/site-packages/scipy/optimize/_numdiff.py:592: RuntimeWarning: invalid value encountered in subtract\n",
      "  df = fun(x1) - f0\n"
     ]
    },
    {
     "name": "stdout",
     "output_type": "stream",
     "text": [
      "is positive x: 1.0\n",
      "initial v_x = 1.1661046591903423\n",
      "After v_x:1.1660994618217304 and v_y:-0.0034815692575413965\n",
      "Release Position: [np.float64(0.6554563641548157), np.float64(2.002521514892578), np.float64(0.8354060890327561)]\n",
      "Velocity: [np.float64(1.1660994618217304), np.float64(-0.0034815692575413965), np.float64(4.073982947997996)]\n",
      "Release Angle (radians): 1.2920180073634953\n",
      "Frame 1 added with position [0.77206631 2.00217336 1.24280438] new vel:[ 1.16609946 -0.00348157  3.09298295]\n",
      "Frame 2 added with position [0.88867626 2.0018252  1.55210268] new vel:[ 1.16609946 -0.00348157  2.11198295]\n",
      "Frame 3 added with position [1.0052862  2.00147704 1.76330097] new vel:[ 1.16609946 -0.00348157  1.13098295]\n",
      "Frame 4 added with position [1.12189615 2.00112889 1.87639927] new vel:[ 1.16609946 -0.00348157  0.14998295]\n",
      "Frame 5 added with position [1.2385061  2.00078073 1.89139756] new vel:[ 1.16609946 -0.00348157 -0.83101705]\n",
      "Frame 6 added with position [1.35511604 2.00043257 1.80829586] new vel:[ 1.16609946 -0.00348157 -1.81201705]\n",
      "Frame 7 added with position [1.47172599 2.00008442 1.62709415] new vel:[ 1.16609946 -0.00348157 -2.79301705]\n",
      "Frame 8 added with position [1.58833593 1.99973626 1.34779245] new vel:[ 1.16609946e+00 -3.48156926e-03 -3.77401705e+00]\n",
      "Frame 9 added with position [1.70494588 1.9993881  0.97039074] new vel:[ 1.16609946e+00 -3.48156926e-03 -4.75501705e+00]\n",
      "Frame 10 added with position [1.82155583 1.99903995 0.49488904] new vel:[ 1.16609946e+00 -3.48156926e-03 -5.73601705e+00]\n",
      "Frame 11 added with position [ 1.93816577  1.99869179 -0.07871267] new vel:[ 1.16609946e+00 -3.48156926e-03 -6.71701705e+00]\n",
      "Initial Position Found: [0.49220244 2.00300893 0.17577748]\n"
     ]
    }
   ],
   "source": [
    "import numpy as np\n",
    "from scipy.optimize import minimize\n",
    "from scipy.optimize import differential_evolution\n",
    "from utils import rotation_matrix_to_quaternion, velocity_to_rotation_matrix, find_line_intersections \n",
    "def calculate_throw_parameters_bin(initial_position, bin_dimensions, gravity=9.81):\n",
    "    bin_pos = C.getFrame(\"bin\").getPosition()\n",
    "    target_vector = np.array([bin_pos[0] - initial_position[0], bin_pos[1] - initial_position[1], 0])\n",
    "    target_vector_length = np.linalg.norm(target_vector)\n",
    "    target_vector /= target_vector_length  # Normalize the vector\n",
    "    x = np.abs(bin_pos[0]-initial_position[0])\n",
    "    y = np.abs(bin_pos[1]-initial_position[1])\n",
    "    x_y_dist = np.sqrt(np.square(x) + np.square(y))\n",
    "    intersections = find_line_intersections(bin_pos, initial_position, bin_dimensions)\n",
    "    print(intersections)\n",
    "    min_projection = np.min([np.linalg.norm(intersection - initial_position) for intersection in intersections])\n",
    "    max_projection = np.max([np.linalg.norm(intersection - initial_position) for intersection in intersections])\n",
    "    def loss_function(params):\n",
    "        release_height, v_magnitude, theta_xz = params\n",
    "        x0, y0, z0 = initial_position\n",
    "        bottom_left = bin_dimensions['bottom_left']\n",
    "        top_right = bin_dimensions['top_right']\n",
    "        v_x = v_magnitude * np.cos(theta_xz)\n",
    "        v_z = v_magnitude * np.sin(theta_xz)\n",
    "        release_position = (x0, y0, release_height)\n",
    "        min_z_target = bottom_left[2]\n",
    "        max_z_target = top_right[2]\n",
    "        a = 0.5 * gravity\n",
    "        b = -v_z\n",
    "        c_min = release_height - min_z_target\n",
    "        c_max = release_height - max_z_target\n",
    "        b_square = np.square(b)\n",
    "        discriminant_min = b_square - 4 * a * c_min\n",
    "        discriminant_max = b_square - 4 * a * c_max\n",
    "        # Check if the trajectory is valid for both boundaries\n",
    "        if discriminant_min < 0 and discriminant_max < 0:\n",
    "            return float(\"inf\")  # No valid trajectory\n",
    "\n",
    "        # Calculate the times for both height boundaries\n",
    "        t_flight_min = (-b + np.sqrt(discriminant_min)) / (2 * a) if discriminant_min >= 0 else float(\"inf\")\n",
    "        t_flight_max = (-b + np.sqrt(discriminant_max)) / (2 * a) if discriminant_max >= 0 else float(\"inf\")\n",
    "        # Choose the shortest valid time\n",
    "        t_flight = min(t_flight_min, t_flight_max)\n",
    "        \n",
    "        x_landing = v_x*t_flight\n",
    "        withing_projection_bounds = min_projection<= x_landing <= max_projection\n",
    "        if withing_projection_bounds:\n",
    "            with open(\"logger.txt\",\"a\") as f:\n",
    "                f.write(f\"Insideee!!!!!Release height: {release_height} Velx: {v_x} loss:0 x_landing:{x_landing} min/max:{min_projection}/{max_projection}\\n\")\n",
    "            return 0 \n",
    "        else:\n",
    "            dproj = max(0,x_landing-min_projection, max_projection-x_landing)\n",
    "            with open(\"logger.txt\",\"a\") as f:\n",
    "                f.write(f\"Release height: {release_height} Velx: {v_x} loss:{dproj} x_landing:{x_landing} min/max:{min_projection}/{max_projection}\\n\")\n",
    "        #dx = np.abs(x_landing-x_y_dist)\n",
    "        return dproj \n",
    "\n",
    "\n",
    "    initial_guess = [initial_position[2], 4.0, np.pi / 4]\n",
    "    \n",
    "    bounds = [(initial_position[2], initial_position[2] + 2.0),\n",
    "                (0.5, 20.0), \n",
    "                (-np.pi/2, np.pi / 2)] \n",
    "    \n",
    "    #result = minimize(loss_function, initial_guess, bounds=bounds, method='SLSQP')\n",
    "    result = differential_evolution(loss_function, bounds)\n",
    "    if result.success:\n",
    "       release_height, v_magnitude, theta_xz = result.x\n",
    "       v_x = v_magnitude * np.cos(theta_xz)\n",
    "       v_z = v_magnitude * np.sin(theta_xz)\n",
    "       print(f\"is positive x: {((bin_pos[0]-initial_position[0])/np.abs(bin_pos[0]-initial_position[0]))}\")\n",
    "       print(f\"initial v_x = {v_x}\")\n",
    "       v_y = v_x* (y/x_y_dist) * ((bin_pos[1]-initial_position[1])/np.abs(bin_pos[1]-initial_position[1]))\n",
    "       v_x = v_x* (x/x_y_dist) * ((bin_pos[0]-initial_position[0])/np.abs(bin_pos[0]-initial_position[0]))\n",
    "       print(f\"After v_x:{v_x} and v_y:{v_y}\")\n",
    "       return {\n",
    "           'release_position': [initial_position[0], initial_position[1], release_height],\n",
    "           'velocity': [v_x, v_y, v_z],\n",
    "           'angle_xz': theta_xz,\n",
    "       }\n",
    "    else:\n",
    "       raise ValueError(\"Optimization failed to find valid parameters.\")\n",
    "\n",
    "\n",
    "initial_pos = C.getFrame(\"cargo\").getPosition()\n",
    "\n",
    "\n",
    "bin_dims = {\n",
    "   'bottom_left': (1.25, 1.75, 0.1),\n",
    "   'top_right': (1.75, 2.25, 0.2) \n",
    "}\n",
    "C.addFrame(\"bottom_left\").setShape(ry.ST.marker,[.2]).setPosition([1.25, 1.75, 0.1]).setColor([1,1,0])\n",
    "C.addFrame(\"top_left\").setShape(ry.ST.marker,[.2]).setPosition([1.75, 2.25, 0.2]).setColor([1,1,0])\n",
    "C.view()\n",
    "result = calculate_throw_parameters_bin(initial_pos, bin_dims)\n",
    "\n",
    "\n",
    "print(\"Release Position:\", result['release_position'])\n",
    "print(\"Velocity:\", result['velocity'])\n",
    "print(\"Release Angle (radians):\", result['angle_xz'])\n",
    "\n",
    "\n",
    "\n",
    "\n",
    "C.addFrame(\"release_frame\").setPosition(result['release_position']).setShape(ry.ST.marker,[.4]).setColor([1,0,0]).setContact(0)\n",
    "\n",
    "\n",
    "C.view()\n",
    "#finding the initial point from the release point and the velocity\n",
    "#find the backward kinematics and simulate it\n",
    "\n",
    "\n",
    "def find_initial_point_from_release(release_position, release_velocity, robot_base, height_threshold=0.2, distance_threshold=1.53):\n",
    "   \"\"\"\n",
    "   Finds the initial position for the throwing motion based on the release position and velocity.\n",
    "\n",
    "\n",
    "   Args:\n",
    "       C: Robot configuration (KOMO simulation object).\n",
    "       release_position: The release point (3D coordinates).\n",
    "       release_velocity: The release velocity vector.\n",
    "       robot_base: Position of the robot base.\n",
    "       height_threshold: Minimum allowable height for the initial position.\n",
    "       distance_threshold: Maximum allowable distance from the robot base.\n",
    "\n",
    "\n",
    "   Returns:\n",
    "       initial_position: The computed initial position, if found.\n",
    "   \"\"\"\n",
    "   # Compute the initial position using backward kinematics\n",
    "   time_step = 0.01  # Small time step for simulation\n",
    "   gravity = np.array([0, 0, -9.81])  # Gravity vector\n",
    "\n",
    "\n",
    "   # Backward integrate to find the initial position\n",
    "   velocity = np.array(release_velocity)\n",
    "   position = np.array(release_position)\n",
    "   distance_to_base = np.linalg.norm(position - np.array(robot_base))\n",
    "   iteration = 0\n",
    "   prev_pos = position\n",
    "   while position[2] > height_threshold and distance_to_base <= distance_threshold:  # Ensure height is above threshold\n",
    "       iteration+=1\n",
    "       prev_pos = position\n",
    "       position -= velocity * time_step\n",
    "       velocity -= gravity * time_step\n",
    "       # Check distance to the robot base\n",
    "       distance_to_base = np.linalg.norm(position - np.array(robot_base))\n",
    "       #print(f\"Iter {iteration}\")\n",
    "   iteration = 0\n",
    "   velocity = np.array(release_velocity)\n",
    "   time_step = .1\n",
    "   position = np.array(release_position)\n",
    "\n",
    "\n",
    "   while position[2] > height_threshold:\n",
    "       position += velocity * time_step\n",
    "       velocity += gravity * time_step\n",
    "       iteration += 1\n",
    "       frame = C.addFrame(f\"trajectory-{iteration}\").setShape(ry.ST.marker,[.2]).setColor([0,0,1]).setPosition(position)\n",
    "       C.view()\n",
    "       print(f\"Frame {iteration} added with position {frame.getPosition()} new vel:{velocity}\")\n",
    "   return prev_pos  # No valid initial position found\n",
    "\n",
    "\n",
    "\n",
    "\n",
    "\n",
    "\n",
    "def pick_last_object_if_valid(release_position, release_velocity, robot_base):\n",
    "   \"\"\"\n",
    "   Simulates the robot to pick the last object if conditions are met.\n",
    "\n",
    "\n",
    "   Args:\n",
    "       C: Robot configuration (KOMO simulation object).\n",
    "       release_position: The release point (3D coordinates).\n",
    "       release_velocity: The release velocity vector.\n",
    "       robot_base: Position of the robot base.\n",
    "\n",
    "\n",
    "   Returns:\n",
    "       None\n",
    "   \"\"\"\n",
    "   # Find the initial position\n",
    "   initial_position = find_initial_point_from_release(release_position, release_velocity, robot_base)\n",
    "\n",
    "\n",
    "   if initial_position is not None:\n",
    "       print(f\"Initial Position Found: {initial_position}\")\n",
    "       # Visualize the initial position\n",
    "       C.addFrame(\"initial_position\").setPosition(initial_position).setShape(ry.ST.marker, [0.4]).setContact(0).setColor([0,1,0]).setQuaternion(rotation_matrix_to_quaternion(velocity_to_rotation_matrix(release_velocity)))\n",
    "       C.view()\n",
    "       return initial_position\n",
    "       # Simulate the robot to pick the last object\n",
    "       # Add your grasping or motion planning logic here\n",
    "   else:\n",
    "       print(\"No valid initial position found.\")\n",
    "\n",
    "\n",
    "initial_pos = pick_last_object_if_valid(np.array(result['release_position']),np.array(result[\"velocity\"]),C.getFrame(\"l_panda_base\").getPosition())\n",
    "\n",
    "\n",
    "#go to inital position with y axis being scalar to the velocity vector\n",
    "def goto_init(gripper_name, initial_pos_name):\n",
    "   komo = ry.KOMO(C, 1, 1, 0, True)\n",
    "   komo.addObjective([1.], ry.FS.positionDiff, [gripper_name, initial_pos_name], ry.OT.eq, [1e1], [0, 0, 0])\n",
    "   komo.addObjective([1], ry.FS.scalarProductYZ, [gripper_name, initial_pos_name], ry.OT.eq, [1e1], [-1])\n",
    "   ret2 = ry.NLP_Solver(komo.nlp()).setOptions(stopTolerance=1e-2, verbose=4).solve()\n",
    "   print(ret2)\n",
    "   return komo\n",
    "\n",
    "\n",
    "\n",
    "\n"
   ]
  },
  {
   "cell_type": "code",
   "execution_count": 46,
   "metadata": {},
   "outputs": [],
   "source": [
    "# Add frame for the release position\n",
    "release_frame = C.addFrame('release')\n",
    "release_frame.setShape(ry.ST.marker, size=[0])\n",
    "release_frame.setPosition(result['release_position'])\n",
    "C.view()\n",
    "time.sleep(15)"
   ]
  },
  {
   "cell_type": "markdown",
   "metadata": {},
   "source": [
    "### Clean up"
   ]
  },
  {
   "cell_type": "code",
   "execution_count": 47,
   "metadata": {},
   "outputs": [],
   "source": [
    "del C\n",
    "del bot"
   ]
  }
 ],
 "metadata": {
  "kernelspec": {
   "display_name": "Python 3",
   "language": "python",
   "name": "python3"
  },
  "language_info": {
   "codemirror_mode": {
    "name": "ipython",
    "version": 3
   },
   "file_extension": ".py",
   "mimetype": "text/x-python",
   "name": "python",
   "nbconvert_exporter": "python",
   "pygments_lexer": "ipython3",
   "version": "3.10.12"
  }
 },
 "nbformat": 4,
 "nbformat_minor": 2
}
