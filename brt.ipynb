{
 "cells": [
  {
   "cell_type": "code",
   "execution_count": 290,
   "metadata": {},
   "outputs": [
    {
     "data": {
      "text/plain": [
       "<robotic._robotic.Frame at 0x7f1482be96b0>"
      ]
     },
     "execution_count": 290,
     "metadata": {},
     "output_type": "execute_result"
    }
   ],
   "source": [
    "import robotic as ry\n",
    "import time\n",
    "\n",
    "C = ry.Config()\n",
    "C.addFile(\"throwing1.g\")\n",
    "qHome = C.getJointState()\n",
    "C.view()\n",
    "#time.sleep(30)\n",
    "C.getFrame('cargo').unLink()"
   ]
  },
  {
   "cell_type": "code",
   "execution_count": 291,
   "metadata": {},
   "outputs": [],
   "source": [
    "way0 = C.addFrame('way0', 'start_area')\n",
    "\n",
    "way0.setShape(ry.ST.marker, size=[.1])\n",
    "way0.setRelativePose('t(0.2 0.15 0.1) d(90 0 0 0)')"
   ]
  },
  {
   "cell_type": "code",
   "execution_count": 292,
   "metadata": {},
   "outputs": [
    {
     "data": {
      "text/plain": [
       "0"
      ]
     },
     "execution_count": 292,
     "metadata": {},
     "output_type": "execute_result"
    }
   ],
   "source": [
    "C.view()"
   ]
  },
  {
   "cell_type": "code",
   "execution_count": null,
   "metadata": {},
   "outputs": [],
   "source": [
    "def create_grasp_komo(C, gripper_name, grasp_frame_name, q0, qHome):\n",
    "    komo = ry.KOMO(C, 3, 1, 0, True)\n",
    "    komo.addObjective([], ry.FS.jointState, [], ry.OT.sos, [1e-1], q0) \n",
    "    komo.addObjective([], ry.FS.jointState, [], ry.OT.sos, [1e-1], qHome)\n",
    "\n",
    "    komo.addObjective([1., 3.], ry.FS.positionRel, [gripper_name, grasp_frame_name], ry.OT.eq, [1e1], [-0.03, 0, 0.01])  \n",
    "\n",
    "    komo.addObjective([1., 3.], ry.FS.scalarProductXX, [gripper_name, grasp_frame_name], ry.OT.eq, [1e1], [1]) \n",
    "    komo.addObjective([1., 3.], ry.FS.scalarProductYY, [gripper_name, grasp_frame_name], ry.OT.eq, [1e1], [1]) \n",
    "    komo.addObjective([1., 3.], ry.FS.scalarProductZZ, [gripper_name, grasp_frame_name], ry.OT.eq, [1e1], [1]) \n",
    "\n",
    "    komo.addObjective([1., 3.], ry.FS.scalarProductXZ, [gripper_name, grasp_frame_name], ry.OT.eq, [1e1], [0]) \n",
    "    # komo.addObjective([1., 3.], ry.FS.scalarProductYY, [gripper_name, grasp_frame_name], ry.OT.eq, [1e1], [-1]) \n",
    "\n",
    "\n",
    "    ret = ry.NLP_Solver(komo.nlp()).setOptions(stopTolerance=1e-2, verbose=4).solve()\n",
    "    print(ret)\n",
    "    return komo"
   ]
  },
  {
   "cell_type": "code",
   "execution_count": 294,
   "metadata": {},
   "outputs": [],
   "source": [
    "def throw_position_komo(C, gripper_name, grasp_frame_name):\n",
    "    komo = ry.KOMO(C, 3, 1, 0, True)\n",
    "    komo.addObjective([1.], ry.FS.positionDiff, [gripper_name, grasp_frame_name], ry.OT.eq, [1e1], [0, 0, 0])\n",
    "    komo.addObjective([3.], ry.FS.scalarProductXX, [gripper_name, 'way0'], ry.OT.eq, [1e1], [0])\n",
    "    ret2 = ry.NLP_Solver(komo.nlp()).setOptions(stopTolerance=1e-2, verbose=4).solve()\n",
    "    print(ret2)\n",
    "    return komo"
   ]
  },
  {
   "cell_type": "code",
   "execution_count": 295,
   "metadata": {},
   "outputs": [
    {
     "name": "stdout",
     "output_type": "stream",
     "text": [
      "{ time: 0.004038, evals: 14, done: 1, feasible: 1, sos: 0.122585, f: 0, ineq: 0, eq: 0.00487031 }\n",
      "{ time: 0.000873, evals: 8, done: 1, feasible: 1, sos: 0, f: 0, ineq: 0, eq: 0.00216194 }\n"
     ]
    }
   ],
   "source": [
    "q0 = C.getJointState()\n",
    "komo = create_grasp_komo(C, 'l_gripper', 'cargo', q0, qHome)\n",
    "path = komo.getPath()\n",
    "\n",
    "komo2 = throw_position_komo(C, 'l_gripper', 'cargo')\n",
    "path2 = komo2.getPath()"
   ]
  },
  {
   "cell_type": "code",
   "execution_count": null,
   "metadata": {},
   "outputs": [],
   "source": [
    "bot = ry.BotOp(C, useRealRobot=False)\n",
    "bot.home(C)\n",
    "\n",
    "bot.move(path, [3.])\n",
    "while bot.getTimeToEnd() > 0:\n",
    "    bot.sync(C, .1)\n",
    "\n",
    "bot.gripperCloseGrasp(ry._left, 'cargo') \n",
    "while not bot.gripperDone(ry._left):\n",
    "    bot.sync(C, .1)\n",
    "\n",
    "bot.move(path2, [3.])\n",
    "while bot.getTimeToEnd() > 0:\n",
    "    bot.sync(C, .1)\n",
    "\n",
    "bot.gripperMove(ry._left)\n",
    "while not bot.gripperDone(ry._left):\n",
    "    bot.sync(C, .1)\n",
    "\n",
    "bot.home(C)"
   ]
  },
  {
   "cell_type": "code",
   "execution_count": 297,
   "metadata": {},
   "outputs": [
    {
     "name": "stdout",
     "output_type": "stream",
     "text": [
      "Release Position: (0.2, 0.15, 0.1)\n",
      "Velocity: (0.7071049814295338, 0, 0.7071085809389804)\n",
      "Release Angle (radians): 0.785400708634987\n"
     ]
    }
   ],
   "source": [
    "import numpy as np\n",
    "from scipy.optimize import minimize\n",
    "\n",
    "def calculate_throw_parameters_bin(initial_position, bin_dimensions, gravity=9.81):\n",
    "    def loss_function(params):\n",
    "        release_height, v_magnitude, theta_xz = params\n",
    "        x0, y0, z0 = initial_position\n",
    "        bottom_left = bin_dimensions['bottom_left']\n",
    "        top_right = bin_dimensions['top_right']\n",
    "        \n",
    "        release_position = (x0, y0, release_height)\n",
    "        \n",
    "        v_x = v_magnitude * np.cos(theta_xz)\n",
    "        v_z = v_magnitude * np.sin(theta_xz)\n",
    "        \n",
    "        t_flight = 2 * v_z / gravity \n",
    "        \n",
    "        x_landing = x0 + v_x * t_flight\n",
    "        \n",
    "        within_x_bounds = bottom_left[0] <= x_landing <= top_right[0]\n",
    "        within_y_bounds = bottom_left[1] <= y0 <= top_right[1]\n",
    "        \n",
    "        if within_x_bounds and within_y_bounds:\n",
    "            return 0  \n",
    "        else:\n",
    "            dx = max(0, bottom_left[0] - x_landing, x_landing - top_right[0])\n",
    "            dy = max(0, bottom_left[1] - y0, y0 - top_right[1])\n",
    "            return dx + dy \n",
    "\n",
    "    initial_guess = [initial_position[2], 5.0, np.pi / 4] \n",
    "    \n",
    "    bounds = [(initial_position[2], initial_position[2] + 1.0), \n",
    "              (1.0, 20.0),  \n",
    "              (0, np.pi / 2)]  \n",
    "    \n",
    "    result = minimize(loss_function, initial_guess, bounds=bounds, method='SLSQP')\n",
    "    \n",
    "    if result.success:\n",
    "        release_height, v_magnitude, theta_xz = result.x\n",
    "        v_x = v_magnitude * np.cos(theta_xz)\n",
    "        v_z = v_magnitude * np.sin(theta_xz)\n",
    "        return {\n",
    "            'release_position': (initial_position[0], initial_position[1], release_height),\n",
    "            'velocity': (v_x, 0, v_z),\n",
    "            'angle_xz': theta_xz,\n",
    "        }\n",
    "    else:\n",
    "        raise ValueError(\"Optimization failed to find valid parameters.\")\n",
    "\n",
    "initial_pos = (0.2, 0.15, 0.1) \n",
    "bin_dims = {\n",
    "    'bottom_left': (-0.25, -0.75, 0.14), \n",
    "    'top_right': (0.25, -0.25, 0.24)  \n",
    "}\n",
    "result = calculate_throw_parameters_bin(initial_pos, bin_dims)\n",
    "\n",
    "print(\"Release Position:\", result['release_position'])\n",
    "print(\"Velocity:\", result['velocity'])\n",
    "print(\"Release Angle (radians):\", result['angle_xz'])\n"
   ]
  },
  {
   "cell_type": "code",
   "execution_count": 298,
   "metadata": {},
   "outputs": [],
   "source": [
    "del C\n",
    "del bot"
   ]
  },
  {
   "cell_type": "code",
   "execution_count": null,
   "metadata": {},
   "outputs": [],
   "source": []
  }
 ],
 "metadata": {
  "kernelspec": {
   "display_name": "rai_venv",
   "language": "python",
   "name": "python3"
  },
  "language_info": {
   "codemirror_mode": {
    "name": "ipython",
    "version": 3
   },
   "file_extension": ".py",
   "mimetype": "text/x-python",
   "name": "python",
   "nbconvert_exporter": "python",
   "pygments_lexer": "ipython3",
   "version": "3.8.10"
  }
 },
 "nbformat": 4,
 "nbformat_minor": 2
}
