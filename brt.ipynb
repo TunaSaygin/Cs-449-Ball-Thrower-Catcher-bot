{
 "cells": [
  {
   "cell_type": "markdown",
   "metadata": {},
   "source": [
    "### Init"
   ]
  },
  {
   "cell_type": "code",
   "execution_count": 55,
   "metadata": {},
   "outputs": [
    {
     "data": {
      "text/plain": [
       "0"
      ]
     },
     "execution_count": 55,
     "metadata": {},
     "output_type": "execute_result"
    }
   ],
   "source": [
    "import robotic as ry\n",
    "import time\n",
    "\n",
    "C = ry.Config()\n",
    "C.addFile(\"throwing1.g\")\n",
    "qHome = C.getJointState()\n",
    "C.view()\n",
    "#time.sleep(30)\n",
    "C.getFrame('cargo').unLink()\n",
    "C.view()"
   ]
  },
  {
   "cell_type": "markdown",
   "metadata": {},
   "source": [
    "### Komo probs"
   ]
  },
  {
   "cell_type": "code",
   "execution_count": 56,
   "metadata": {},
   "outputs": [
    {
     "data": {
      "text/plain": [
       "0"
      ]
     },
     "execution_count": 56,
     "metadata": {},
     "output_type": "execute_result"
    }
   ],
   "source": [
    "way0 = C.addFrame('way0', 'start_area')\n",
    "\n",
    "way0.setShape(ry.ST.marker, size=[.1])\n",
    "way0.setRelativePose('t(0.2 0.15 0.1) d(90 0 0 0)')\n",
    "C.view()"
   ]
  },
  {
   "cell_type": "code",
   "execution_count": 57,
   "metadata": {},
   "outputs": [],
   "source": [
    "def create_grasp_komo(C, gripper_name, grasp_frame_name, q0, qHome):\n",
    "    komo = ry.KOMO(C, 3, 1, 0, True)\n",
    "    komo.addObjective([], ry.FS.jointState, [], ry.OT.sos, [1e-1], q0) \n",
    "    komo.addObjective([], ry.FS.jointState, [], ry.OT.sos, [1e-1], qHome)\n",
    "\n",
    "    komo.addObjective([1., 3.], ry.FS.positionRel, [gripper_name, grasp_frame_name], ry.OT.eq, [1e1], [-0.03, 0, 0.01])  \n",
    "\n",
    "    komo.addObjective([1., 3.], ry.FS.scalarProductXX, [gripper_name, grasp_frame_name], ry.OT.eq, [1e1], [1]) \n",
    "    komo.addObjective([1., 3.], ry.FS.scalarProductYY, [gripper_name, grasp_frame_name], ry.OT.eq, [1e1], [1]) \n",
    "    komo.addObjective([1., 3.], ry.FS.scalarProductZZ, [gripper_name, grasp_frame_name], ry.OT.eq, [1e1], [1]) \n",
    "\n",
    "    komo.addObjective([1., 3.], ry.FS.scalarProductXZ, [gripper_name, grasp_frame_name], ry.OT.eq, [1e1], [0]) \n",
    "    # komo.addObjective([1., 3.], ry.FS.scalarProductYY, [gripper_name, grasp_frame_name], ry.OT.eq, [1e1], [-1]) \n",
    "\n",
    "\n",
    "    ret = ry.NLP_Solver(komo.nlp()).setOptions(stopTolerance=1e-2, verbose=4).solve()\n",
    "    print(ret)\n",
    "    return komo"
   ]
  },
  {
   "cell_type": "code",
   "execution_count": 58,
   "metadata": {},
   "outputs": [],
   "source": [
    "def throw_position_komo(C, gripper_name, grasp_frame_name):\n",
    "    komo = ry.KOMO(C, 3, 1, 0, True)\n",
    "    komo.addObjective([1.], ry.FS.positionDiff, [gripper_name, grasp_frame_name], ry.OT.eq, [1e1], [0, 0, 0])\n",
    "    komo.addObjective([3.], ry.FS.scalarProductXX, [gripper_name, 'way0'], ry.OT.eq, [1e1], [0])\n",
    "    ret2 = ry.NLP_Solver(komo.nlp()).setOptions(stopTolerance=1e-2, verbose=4).solve()\n",
    "    print(ret2)\n",
    "    return komo"
   ]
  },
  {
   "cell_type": "code",
   "execution_count": 59,
   "metadata": {},
   "outputs": [
    {
     "name": "stdout",
     "output_type": "stream",
     "text": [
      "{ time: 0.003065, evals: 14, done: 1, feasible: 1, sos: 0.1319, f: 0, ineq: 0, eq: 0.00513491 }\n",
      "====nlp==== method:AugmentedLagrangian bounded: yes\n",
      "==nlp== it:0 evals:0 mu:1 nu:1 muLB:0.1\n",
      "----newton---- initial point f(x):176.816 alpha:1 beta:1\n",
      "--newton-- it:   1  |Delta|:        0.2  alpha:          1  evals:   2  f(y):    138.063  ACCEPT\n",
      "--newton-- it:   2  |Delta|:        0.2  alpha:          1  evals:   3  f(y):    99.4683  ACCEPT\n",
      "--newton-- it:   3  |Delta|:        0.2  alpha:          1  evals:   4  f(y):    62.5688  ACCEPT\n",
      "--newton-- it:   4  |Delta|:        0.2  alpha:          1  evals:   5  f(y):    28.9749  ACCEPT\n",
      "--newton-- it:   5  |Delta|:        0.2  alpha:          1  evals:   6  f(y):     9.3213  ACCEPT\n",
      "--newton-- it:   6  |Delta|:        0.2  alpha:          1  evals:   7  f(y):    3.19908  ACCEPT\n",
      "--newton-- it:   7  |Delta|:        0.2  alpha:          1  evals:   8  f(y):   0.642644  ACCEPT\n",
      "--newton-- it:   8  |Delta|:   0.143353  alpha:          1  evals:   9  f(y):   0.142428  ACCEPT\n",
      "--newton-- it:   9  |Delta|:  0.0205618  alpha:          1  evals:  10  f(y):   0.132671  ACCEPT\n",
      "--newton-- stopping: 'absMax(Delta)<options.stopTolerance'\n",
      "==nlp== it:   0  evals:  10  A(x):   0.132671  f:   0.131386  g:          0  h:   0.134037  |x-x'|:   0.979877 \tstop:DeltaConverge\n",
      "==nlp== it:   1  evals:  10  A(x):   0.140377  mu:5\n",
      "--newton-- it:  10  |Delta|:   0.018806  alpha:          1  evals:  11  f(y):   0.133077  ACCEPT\n",
      "--newton-- it:  11  |Delta|:  0.0117048  alpha:          1  evals:  12  f(y):   0.132543  ACCEPT\n",
      "--newton-- it:  12  |Delta|: 0.00758423  alpha:          1  evals:  13  f(y):   0.132218  ACCEPT\n",
      "--newton-- stopping: 'absMax(Delta)<options.stopTolerance'\n",
      "==nlp== it:   1  evals:  13  A(x):   0.132218  f:   0.132088  g:          0  h:  0.0131934  |x-x'|:  0.0380951 \tstop:DeltaConverge\n",
      "==nlp== it:   2  evals:  13  A(x):   0.132541  mu:25\n",
      "--newton-- it:  13  |Delta|: 0.00910653  alpha:          1  evals:  14  f(y):   0.132099  ACCEPT\n",
      "--newton-- stopping: 'absMax(Delta)<options.stopTolerance'\n",
      "==nlp== it:   2  evals:  14  A(x):   0.132099  f:     0.1319  g:          0  h: 0.00513491  |x-x'|: 0.00910653 \tstop:DeltaConverge\n",
      "==nlp== StoppingCriterion Delta<0.01\n",
      "----newton---- final f(x):0.132099\n",
      "====nlp==== method:AugmentedLagrangian bounded: yes\n",
      "==nlp== it:0 evals:0 mu:1 nu:1 muLB:0.1\n",
      "----newton---- initial point f(x):104.41 alpha:1 beta:1\n",
      "--newton-- it:   1  |Delta|:        0.2  alpha:          1  evals:   2  f(y):    51.1131  ACCEPT\n",
      "--newton-- it:   2  |Delta|:        0.2  alpha:          1  evals:   3  f(y):    15.9784  ACCEPT\n",
      "--newton-- it:   3  |Delta|:        0.2  alpha:          1  evals:   4  f(y):    6.67667  ACCEPT\n",
      "--newton-- it:   4  |Delta|:        0.2  alpha:          1  evals:   5  f(y):    2.07233  ACCEPT\n",
      "--newton-- it:   5  |Delta|:        0.2  alpha:          1  evals:   6  f(y):   0.175345  ACCEPT\n",
      "--newton-- it:   6  |Delta|:  0.0847638  alpha:          1  evals:   7  f(y):0.000539454  ACCEPT\n",
      "--newton-- it:   7  |Delta|: 0.00461082  alpha:          1  evals:   8  f(y):2.00405e-06  ACCEPT\n",
      "--newton-- stopping: 'absMax(Delta)<options.stopTolerance'\n",
      "==nlp== it:   0  evals:   8  A(x):2.00405e-06  f:          0  g:          0  h: 0.00197537  |x-x'|:   0.894243 \tstop:DeltaConverge\n",
      "==nlp== it:   1  evals:   8  A(x):1.40283e-05  mu:5\n",
      "--newton-- it:   8  |Delta|:0.000464629 \t -- absMax(Delta)<1e-1*o.stopTolerance -- NO UPDATE\n",
      "==nlp== it:   1  evals:   8  A(x):1.40283e-05  f:          0  g:          0  h: 0.00197537  |x-x'|:          0 \tstop:DeltaConverge\n",
      "==nlp== StoppingCriterion Delta<0.01\n",
      "----newton---- final f(x):1.40283e-05\n",
      "{ time: 0.00075, evals: 8, done: 1, feasible: 1, sos: 0, f: 0, ineq: 0, eq: 0.00197537 }\n"
     ]
    }
   ],
   "source": [
    "q0 = C.getJointState()\n",
    "komo = create_grasp_komo(C, 'l_gripper', 'cargo', q0, qHome)\n",
    "path = komo.getPath()\n",
    "\n",
    "komo2 = throw_position_komo(C, 'l_gripper', 'cargo')\n",
    "path2 = komo2.getPath()"
   ]
  },
  {
   "cell_type": "markdown",
   "metadata": {},
   "source": [
    "### Pick up ball"
   ]
  },
  {
   "cell_type": "code",
   "execution_count": 60,
   "metadata": {},
   "outputs": [
    {
     "name": "stdout",
     "output_type": "stream",
     "text": [
      "-- kin_physx.cpp:addJoint:298(0) ADDING JOINT l_panda_joint7-cargo of type rigid with rel [0, 0, 0]\n"
     ]
    }
   ],
   "source": [
    "bot = ry.BotOp(C, useRealRobot=False)\n",
    "bot.home(C)\n",
    "\n",
    "bot.move(path, [3.])\n",
    "while bot.getTimeToEnd() > 0:\n",
    "    bot.sync(C, .1)\n",
    "\n",
    "bot.gripperCloseGrasp(ry._left, 'cargo') \n",
    "while not bot.gripperDone(ry._left):\n",
    "    bot.sync(C, .1)\n",
    "\n",
    "bot.move(path2, [3.])\n",
    "while bot.getTimeToEnd() > 0:\n",
    "    bot.sync(C, .1)\n",
    "\n",
    "# bot.gripperMove(ry._left)\n",
    "# while not bot.gripperDone(ry._left):\n",
    "#     bot.sync(C, .1)\n",
    "\n",
    "pre_throw_pos = C.getFrame('l_gripper').getPosition()\n",
    "\n",
    "\n",
    "bot.home(C)"
   ]
  },
  {
   "cell_type": "markdown",
   "metadata": {},
   "source": [
    "### Calculate throw"
   ]
  },
  {
   "cell_type": "code",
   "execution_count": 61,
   "metadata": {},
   "outputs": [
    {
     "name": "stdout",
     "output_type": "stream",
     "text": [
      "Initial Position: [0.47567483 1.99561983 0.67380133]\n",
      "Release Position: (0.2744370668676769, 1.8231970429722304, 0.9920656427971468)\n",
      "Velocity: (0.7071044642017735, 0, 0.7071090981637301)\n",
      "Release Angle (radians): 0.7854014401033715\n"
     ]
    }
   ],
   "source": [
    "import numpy as np\n",
    "from scipy.optimize import minimize\n",
    "\n",
    "def calculate_throw_parameters_bin(initial_position, bin_dimensions, gravity=9.81):\n",
    "    def loss_function(params):\n",
    "        release_height, v_magnitude, theta_xz = params\n",
    "        x0, y0, z0 = initial_position\n",
    "        bottom_left = bin_dimensions['bottom_left']\n",
    "        top_right = bin_dimensions['top_right']\n",
    "        \n",
    "        release_position = (x0, y0, release_height)\n",
    "        \n",
    "        v_x = v_magnitude * np.cos(theta_xz)\n",
    "        v_z = v_magnitude * np.sin(theta_xz)\n",
    "        \n",
    "        t_flight = 2 * v_z / gravity \n",
    "        \n",
    "        x_landing = x0 + v_x * t_flight\n",
    "        \n",
    "        within_x_bounds = bottom_left[0] <= x_landing <= top_right[0]\n",
    "        within_y_bounds = bottom_left[1] <= y0 <= top_right[1]\n",
    "        \n",
    "        if within_x_bounds and within_y_bounds:\n",
    "            return 0  \n",
    "        else:\n",
    "            dx = max(0, bottom_left[0] - x_landing, x_landing - top_right[0])\n",
    "            dy = max(0, bottom_left[1] - y0, y0 - top_right[1])\n",
    "            return dx + dy \n",
    "\n",
    "    initial_guess = [initial_position[2], 5.0, np.pi / 4] \n",
    "    \n",
    "    bounds = [(initial_position[2], initial_position[2] + 1.0), \n",
    "              (1.0, 20.0),  \n",
    "              (0, np.pi / 2)]  \n",
    "    \n",
    "    result = minimize(loss_function, initial_guess, bounds=bounds, method='SLSQP')\n",
    "    \n",
    "    if result.success:\n",
    "        release_height, v_magnitude, theta_xz = result.x\n",
    "        v_x = v_magnitude * np.cos(theta_xz)\n",
    "        v_z = v_magnitude * np.sin(theta_xz)\n",
    "        return {\n",
    "            'release_position': (initial_position[0], initial_position[1], release_height),\n",
    "            'velocity': (v_x, 0, v_z),\n",
    "            'angle_xz': theta_xz,\n",
    "        }\n",
    "    else:\n",
    "        raise ValueError(\"Optimization failed to find valid parameters.\")\n",
    "\n",
    "initial_pos = C.getFrame('l_gripper').getPosition()\n",
    "print(\"Initial Position:\", initial_pos)\n",
    "bin_dims = {\n",
    "    'bottom_left': (-0.25, -0.75, 0.14), \n",
    "    'top_right': (0.25, -0.25, 0.24)  \n",
    "}\n",
    "# result = calculate_throw_parameters_bin(initial_pos, bin_dims)\n",
    "result = calculate_throw_parameters_bin(pre_throw_pos, bin_dims)\n",
    "\n",
    "print(\"Release Position:\", result['release_position'])\n",
    "print(\"Velocity:\", result['velocity'])\n",
    "print(\"Release Angle (radians):\", result['angle_xz'])\n"
   ]
  },
  {
   "cell_type": "code",
   "execution_count": 62,
   "metadata": {},
   "outputs": [
    {
     "data": {
      "text/plain": [
       "0"
      ]
     },
     "execution_count": 62,
     "metadata": {},
     "output_type": "execute_result"
    }
   ],
   "source": [
    "# Add frame for the release position\n",
    "release_frame = C.addFrame('release')\n",
    "release_frame.setShape(ry.ST.marker, size=[.5])\n",
    "release_frame.setPosition(result['release_position'])\n",
    "C.view()"
   ]
  },
  {
   "cell_type": "code",
   "execution_count": 63,
   "metadata": {},
   "outputs": [
    {
     "name": "stdout",
     "output_type": "stream",
     "text": [
      "-- bot.cpp:~BotOp:135(0) shutting down BotOp...\n",
      "-- simulation.cpp:~BotThreadedSim:57(0) shutting down SimThread\n",
      "-- simulation.cpp:~Simulation:148(0) shutting down Simulation\n"
     ]
    }
   ],
   "source": [
    "del C\n",
    "del bot"
   ]
  }
 ],
 "metadata": {
  "kernelspec": {
   "display_name": "rai_venv",
   "language": "python",
   "name": "python3"
  },
  "language_info": {
   "codemirror_mode": {
    "name": "ipython",
    "version": 3
   },
   "file_extension": ".py",
   "mimetype": "text/x-python",
   "name": "python",
   "nbconvert_exporter": "python",
   "pygments_lexer": "ipython3",
   "version": "3.8.10"
  }
 },
 "nbformat": 4,
 "nbformat_minor": 2
}
