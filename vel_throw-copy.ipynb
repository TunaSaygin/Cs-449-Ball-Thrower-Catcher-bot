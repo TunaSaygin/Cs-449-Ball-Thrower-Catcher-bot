{
 "cells": [
  {
   "cell_type": "markdown",
   "metadata": {},
   "source": [
    "### Init"
   ]
  },
  {
   "cell_type": "code",
   "execution_count": 512,
   "metadata": {},
   "outputs": [
    {
     "data": {
      "text/plain": [
       "0"
      ]
     },
     "execution_count": 512,
     "metadata": {},
     "output_type": "execute_result"
    }
   ],
   "source": [
    "import robotic as ry\n",
    "import time\n",
    "import numpy as np\n",
    "from scipy.optimize import minimize\n",
    "from scipy.optimize import differential_evolution\n",
    "from my_utils import rotation_matrix_to_quaternion, velocity_to_rotation_matrix, find_line_intersections_2d\n",
    "with open(\"logger.txt\",\"w\") as f:\n",
    "    f.write(\"\")\n",
    "try:\n",
    "    del C\n",
    "    del bot\n",
    "except:\n",
    "    pass\n",
    "\n",
    "# Define constants\n",
    "g = 9.81  # Gravity, m/s^2\n",
    "\n",
    "\n",
    "C = ry.Config()\n",
    "# C.watchFile(\"throwing1.g\")\n",
    "C.addFile(\"throwing_bare.g\")\n",
    "qHome = C.getJointState()\n",
    "C.view()\n",
    "#time.sleep(30)\n",
    "C.getFrame('cargo').unLink()\n",
    "# vis = C.getFrame(\"bin\").getPosition()\n",
    "# print(vis)\n",
    "\n",
    "bin_xy = [ C.getFrame(\"bin\").getPosition()[0], C.getFrame(\"bin\").getPosition()[1] ]\n",
    "l_panda_base = [ C.getFrame(\"l_panda_base\").getPosition()[0], C.getFrame(\"l_panda_base\").getPosition()[1] ]\n",
    "\n",
    "x_diff = bin_xy[0] - l_panda_base[0]\n",
    "y_diff = bin_xy[1] - l_panda_base[1]\n",
    "\n",
    "# tan inverse of y_diff/x_diff\n",
    "theta_bin = np.arctan2(y_diff, x_diff)\n",
    "bin_quat = [np.cos(theta_bin / 2), 0, 0, np.sin(theta_bin / 2)]\n",
    "\n",
    "# C.addFrame(\"initial\").setPosition([-0.6,2.5,0.3]).setShape(ry.ST.marker,[.3])\n",
    "C.addFrame(\"throw\").setPosition([0,1.8,1.2]).setShape(ry.ST.marker,[.3]).setQuaternion(bin_quat)\n",
    "# based on bin position rel to origin base = [2.   2.   0.08]\n",
    "# C.addFrame(\"initial\").setPosition([vis[0] - 2.6, vis[1] + 0.5,vis[2] + 0.22]).setShape(ry.ST.marker,[.3])\n",
    "# C.addFrame(\"throw\").setPosition([vis[0] - 2, vis[1] - 0.2, vis[2] + 1.12]).setShape(ry.ST.marker,[.3])\n",
    "\n",
    "\n",
    "# rotate the base frame by theta_bin\n",
    "# C.getFrame(\"l_panda_base\").setQuaternion(rotation_matrix_to_quaternion(velocity_to_rotation_matrix([0,0,theta_bin])))\n",
    "C.getFrame(\"l_panda_base\").setQuaternion(bin_quat)\n",
    "# C.getFrame(\"bin\").setQuaternion(bin_quat)\n",
    "\n",
    "\n",
    "\n",
    "C.view()"
   ]
  },
  {
   "cell_type": "markdown",
   "metadata": {},
   "source": [
    "### Defining constraints for target landing position, i.e. bin center position"
   ]
  },
  {
   "cell_type": "code",
   "execution_count": 513,
   "metadata": {},
   "outputs": [],
   "source": [
    "# Initial positions (robot and bin)\n",
    "initial_pos = C.getFrame(\"throw\").getPosition()\n",
    "bin_dims = C.getFrame(\"bin\").getPosition()\n",
    "\n",
    "# Bin and robot parameters\n",
    "x_bin, y_bin, z_bin = bin_dims[0], bin_dims[1], bin_dims[2]\n",
    "x0, y0, z0 = initial_pos[0], initial_pos[1], initial_pos[2]\n",
    "\n",
    "# Objective function: minimize velocity magnitude\n",
    "def objective(params):\n",
    "    v0, theta, phi = params\n",
    "    return v0\n",
    "\n",
    "# Constraints: ball lands in the bin's X position\n",
    "def constraint_x(params):\n",
    "    v0, theta, phi = params\n",
    "    vx = v0 * np.cos(theta) * np.cos(phi)\n",
    "    t_land = (-v0 * np.sin(theta) + np.sqrt((v0 * np.sin(theta))**2 + 2 * g * (z0 - z_bin))) / g\n",
    "    return x0 + vx * t_land - x_bin\n",
    "\n",
    "# Constraints: ball lands in the bin's Y position\n",
    "def constraint_y(params):\n",
    "    v0, theta, phi = params\n",
    "    vy = v0 * np.cos(theta) * np.sin(phi)\n",
    "    t_land = (-v0 * np.sin(theta) + np.sqrt((v0 * np.sin(theta))**2 + 2 * g * (z0 - z_bin))) / g\n",
    "    return y0 + vy * t_land - y_bin\n",
    "\n",
    "# Constraints: ball lands in the bin's Z position (height)\n",
    "def constraint_z(params):\n",
    "    v0, theta, phi = params\n",
    "    vz = v0 * np.sin(theta)\n",
    "    t_land = (-vz + np.sqrt(vz**2 + 2 * g * (z0 - z_bin))) / g\n",
    "    return z0 + vz * t_land - 0.5 * g * t_land**2 - z_bin\n",
    "\n",
    "# Constraint: Ball does not hit the bin's sides\n",
    "def constraint_sides_height(params):\n",
    "    v0, theta, phi = params\n",
    "    # Time to reach maximum height\n",
    "    t_up = v0 * np.sin(theta) / g\n",
    "    # Ball's height at time t_up (maximum height)\n",
    "    z_max = z0 + (v0 * np.sin(theta))**2 / (2 * g)\n",
    "    \n",
    "    # If the bin's sides are higher than the max height, no problem\n",
    "    if z_max < z_bin:\n",
    "        return 0  # No issue, the ball won't hit the sides\n",
    "    else:\n",
    "        # If the bin's sides are lower, we need to check at different points in time\n",
    "        t_down = np.sqrt(2 * (z_max - z_bin) / g)\n",
    "        z_ball_at_t = z0 + v0 * np.sin(theta) * t_down - 0.5 * g * t_down**2\n",
    "        return z_ball_at_t - z_bin  # Ball height should not exceed bin sides"
   ]
  },
  {
   "cell_type": "markdown",
   "metadata": {},
   "source": [
    "### Use initial guess to optimise for throw velocity"
   ]
  },
  {
   "cell_type": "code",
   "execution_count": 514,
   "metadata": {},
   "outputs": [
    {
     "name": "stdout",
     "output_type": "stream",
     "text": [
      "Optimal velocity: 2.09 m/s, Theta: 0.00°, Phi: 0.00°\n"
     ]
    },
    {
     "data": {
      "text/plain": [
       "0"
      ]
     },
     "execution_count": 514,
     "metadata": {},
     "output_type": "execute_result"
    }
   ],
   "source": [
    "# Initial guess and bounds\n",
    "initial_guess = [5, np.pi / 4, np.pi / 4]  # [velocity, theta, phi]\n",
    "bounds = [(1, 20), (0, np.pi / 2), (0, 2 * np.pi)]  # Bounds for velocity and angles\n",
    "\n",
    "# Solve the optimization\n",
    "result = minimize(objective, initial_guess, constraints=[\n",
    "    {'type': 'eq', 'fun': constraint_x},\n",
    "    {'type': 'eq', 'fun': constraint_y},\n",
    "    {'type': 'eq', 'fun': constraint_z},\n",
    "    {'type': 'ineq', 'fun': constraint_sides_height}  # Ensure ball avoids sides' height\n",
    "], bounds=bounds)\n",
    "\n",
    "# Extract results\n",
    "v0_opt, theta_opt, phi_opt = result.x\n",
    "print(f\"Optimal velocity: {v0_opt:.2f} m/s, Theta: {np.degrees(theta_opt):.2f}°, Phi: {np.degrees(phi_opt):.2f}°\")\n",
    "\n",
    "v_x = v0_opt * np.cos(theta_opt) * np.cos(phi_opt)\n",
    "v_y = v0_opt * np.cos(theta_opt) * np.sin(phi_opt)\n",
    "v_z = v0_opt * np.sin(theta_opt)\n",
    "\n",
    "velocity = [v_x, v_y, v_z]\n",
    "\n",
    "rf = C.addFrame(\"release_frame\").setPosition(initial_pos).setShape(ry.ST.marker,[.4]).setColor([1,0,0]).setContact(0)\n",
    "rf.setQuaternion(bin_quat)\n",
    "C.view()"
   ]
  },
  {
   "cell_type": "code",
   "execution_count": 515,
   "metadata": {},
   "outputs": [
    {
     "name": "stdout",
     "output_type": "stream",
     "text": [
      "0.986154146165801\n",
      "Successfully converted: 0.986154146165801\n",
      "Frame 1 added with position [0.20927169 1.8        1.2       ] new vel:[ 2.09271695  0.         -0.98      ]\n",
      "Frame 2 added with position [0.41854339 1.8        1.102     ] new vel:[ 2.09271695  0.         -1.96      ]\n",
      "Frame 3 added with position [0.62781508 1.8        0.906     ] new vel:[ 2.09271695  0.         -2.94      ]\n",
      "Frame 4 added with position [0.83708678 1.8        0.612     ] new vel:[ 2.09271695  0.         -3.92      ]\n",
      "Frame 5 added with position [1.04635847 1.8        0.22      ] new vel:[ 2.09271695  0.         -4.9       ]\n",
      "Frame 6 added with position [ 1.25563017  1.8        -0.27      ] new vel:[ 2.09271695  0.         -5.88      ]\n",
      "Initial Position Found: [-0.98615415  2.          0.3       ]\n"
     ]
    }
   ],
   "source": [
    "#finding the initial point from the release point and the velocity\n",
    "#find the backward kinematics and simulate it\n",
    "\n",
    "def find_initial_point_from_release(release_position, release_velocity, robot_base, height_threshold=0.2, distance_threshold=1.53):\n",
    "    \"\"\"\n",
    "    Finds the initial position for the throwing motion based on the release position and velocity.\n",
    "\n",
    "\n",
    "    Args:\n",
    "        C: Robot configuration (KOMO simulation object).\n",
    "        release_position: The release point (3D coordinates).\n",
    "        release_velocity: The release velocity vector.\n",
    "        robot_base: Position of the robot base.\n",
    "        height_threshold: Minimum allowable height for the initial position.\n",
    "        distance_threshold: Maximum allowable distance from the robot base.\n",
    "\n",
    "\n",
    "    Returns:\n",
    "        initial_position: The computed initial position, if found.\n",
    "    \"\"\"\n",
    "    with open(\"throwing_params.txt\",\"r\") as f:\n",
    "        distance_xy = f.read().strip()\n",
    "        print(distance_xy)\n",
    "        try:\n",
    "            distance_xy = np.float64(distance_xy)\n",
    "            print(\"Successfully converted:\", distance_xy)\n",
    "        except ValueError as e:\n",
    "            print(\"Conversion failed:\", e)\n",
    "    velxy_ratio = release_velocity[1]/release_velocity[0]\n",
    "    x = distance_xy/np.sqrt(1+np.square(velxy_ratio))\n",
    "    base_position = C.getFrame(\"l_panda_base\").getPosition()\n",
    "    initial_position  = np.array([-x +base_position[0],-np.multiply(velxy_ratio,x) + base_position[1],0.3])\n",
    "    iteration = 0\n",
    "    gravity = np.array([0,0,-9.8])\n",
    "    iteration = 0\n",
    "    #resetting the velocity and position after calculating initial position\n",
    "    velocity = np.array(release_velocity)\n",
    "    time_step = .1\n",
    "    position = np.array(release_position)\n",
    "    while position[2] > height_threshold:\n",
    "        position += velocity * time_step\n",
    "        velocity += gravity * time_step\n",
    "        iteration += 1\n",
    "        frame = C.addFrame(f\"trajectory-{iteration}\").setShape(ry.ST.marker,[.2]).setColor([0,0,1]).setPosition(position).setQuaternion(bin_quat)\n",
    "        C.view()\n",
    "        print(f\"Frame {iteration} added with position {frame.getPosition()} new vel:{velocity}\")\n",
    "    return initial_position  # No valid initial position found\n",
    "\n",
    "\n",
    "def pick_last_object_if_valid(release_position, release_velocity, robot_base):\n",
    "   \"\"\"\n",
    "   Simulates the robot to pick the last object if conditions are met.\n",
    "   Args:\n",
    "       C: Robot configuration (KOMO simulation object).\n",
    "       release_position: The release point (3D coordinates).\n",
    "       release_velocity: The release velocity vector.\n",
    "       robot_base: Position of the robot base.\n",
    "   \"\"\"\n",
    "   # Find the initial position\n",
    "   initial_position = find_initial_point_from_release(release_position, release_velocity, robot_base)\n",
    "\n",
    "\n",
    "   if initial_position is not None:\n",
    "       print(f\"Initial Position Found: {initial_position}\")\n",
    "       # Visualize the initial position\n",
    "    #    C.addFrame(\"initial_position\").setPosition(initial_position).setShape(ry.ST.marker, [0.4]).setContact(0).setColor([0,1,0]).setQuaternion(rotation_matrix_to_quaternion(velocity_to_rotation_matrix(release_velocity)))\n",
    "       C.addFrame(\"initial_position\").setPosition(initial_position).setShape(ry.ST.marker, [0.4]).setContact(0).setColor([0,1,0]).setQuaternion(bin_quat)\n",
    "       C.view()\n",
    "       return initial_position\n",
    "       # Simulate the robot to pick the last object\n",
    "       # Add your grasping or motion planning logic here\n",
    "   else:\n",
    "       print(\"No valid initial position found.\")\n",
    "\n",
    "\n",
    "initial_pos = pick_last_object_if_valid(np.array(initial_pos),np.array(velocity),C.getFrame(\"l_panda_base\").getPosition())\n",
    "\n",
    "\n",
    "#go to inital position with y axis being scalar to the velocity vector\n",
    "# def goto_init(gripper_name, initial_pos_name):\n",
    "#    komo = ry.KOMO(C, 1, 1, 0, True)\n",
    "#    komo.addObjective([1.], ry.FS.positionDiff, [gripper_name, initial_pos_name], ry.OT.eq, [1e1], [0, 0, 0])\n",
    "#    komo.addObjective([1], ry.FS.scalarProductYZ, [gripper_name, initial_pos_name], ry.OT.eq, [1e1], [-1])\n",
    "#    ret2 = ry.NLP_Solver(komo.nlp()).setOptions(stopTolerance=1e-2, verbose=4).solve()\n",
    "#    print(ret2)\n",
    "#    return komo"
   ]
  },
  {
   "cell_type": "markdown",
   "metadata": {},
   "source": [
    "### Define KOMO problems"
   ]
  },
  {
   "cell_type": "code",
   "execution_count": 516,
   "metadata": {},
   "outputs": [],
   "source": [
    "def pre_grasp_komo(C, gripper_name, grasp_frame_name, q0, qHome):\n",
    "    komo = ry.KOMO(C, 3, 1, 0, True)\n",
    "\n",
    "    # Suppose at some point you know positions:\n",
    "    gripper_pos = C.getFrame(\"l_gripper\").getPosition()\n",
    "    bin_pos = C.getFrame(\"bin\").getPosition()\n",
    "\n",
    "    dx = bin_pos[0] - gripper_pos[0]\n",
    "    dy = bin_pos[1] - gripper_pos[1]\n",
    "    direction = np.array([dx, dy, 0])\n",
    "    direction = direction / np.linalg.norm(direction)\n",
    "\n",
    "    # direction_frame = C.getFrame(\"direction_frame\")\n",
    "\n",
    "    # R = velocity_to_rotation_matrix(direction)  # from your utilities\n",
    "    # q = rotation_matrix_to_quaternion(R)\n",
    "    # direction_frame.setQuaternion(q)\n",
    "    # direction_frame.setPosition(bin_pos) # or bin_pos, depending on how you define it\n",
    "\n",
    "    # komo.addObjective([], ry.FS.scalarProductXX, [\"l_gripper\",\"direction_frame\"], ry.OT.eq, [1e2],[1])\n",
    "    komo.addObjective([], ry.FS.accumulatedCollisions, [], ry.OT.eq, [1e1])\n",
    "    komo.addObjective([], ry.FS.jointState, [], ry.OT.sos, [1e-1], q0)\n",
    "    komo.addObjective([], ry.FS.jointState, [], ry.OT.sos, [1e-1], qHome)\n",
    "\n",
    "    komo.addObjective([1., 3.], ry.FS.positionRel, [gripper_name, grasp_frame_name], ry.OT.eq, [1e1], [0, 0, 0])  \n",
    "    komo.addObjective([1., 3.], ry.FS.scalarProductYX, [gripper_name, grasp_frame_name], ry.OT.eq, [1e2], [1]) \n",
    "    komo.addObjective([1., 3.], ry.FS.scalarProductZZ, [grasp_frame_name, gripper_name], ry.OT.eq, [1e1], [1]) \n",
    "\n",
    "    ret = ry.NLP_Solver(komo.nlp()).setOptions(stopTolerance=1e-2, verbose=4).solve()\n",
    "    print(ret)\n",
    "    return komo\n",
    "\n",
    "\n",
    "def post_grasp_komo(C, gripper_name, grasp_frame_name, q0, qHome):\n",
    "    komo = ry.KOMO(C, 1, 1, 0, True)\n",
    "    komo.addObjective([], ry.FS.positionDiff, [\"l_gripper\",\"initial_position\"], ry.OT.eq, [1e1], [0,0,0])\n",
    "    komo.addObjective([], ry.FS.scalarProductYZ, [\"l_gripper\",\"initial_position\"], ry.OT.eq, [1e1], [-1])\n",
    "    ret = ry.NLP_Solver(komo.nlp()).setOptions(stopTolerance=1e-2, verbose=4).solve()\n",
    "    print(ret)\n",
    "    return komo"
   ]
  },
  {
   "cell_type": "code",
   "execution_count": 517,
   "metadata": {},
   "outputs": [
    {
     "name": "stdout",
     "output_type": "stream",
     "text": [
      "{ time: 0.010433, evals: 34, done: 1, feasible: 1, sos: 0.256698, f: 0, ineq: 0, eq: 0.00268487 }\n"
     ]
    }
   ],
   "source": [
    "qHome = C.getJointState()\n",
    "q0 = C.getJointState()\n",
    "komo0 = pre_grasp_komo(C, 'l_gripper', 'cargo', q0, qHome)\n",
    "path0 = komo0.getPath()"
   ]
  },
  {
   "cell_type": "code",
   "execution_count": 518,
   "metadata": {},
   "outputs": [
    {
     "name": "stdout",
     "output_type": "stream",
     "text": [
      "{ time: 0.028625, evals: 372, done: 1, feasible: 1, sos: 0, f: 0, ineq: 0, eq: 0.457569 }\n"
     ]
    }
   ],
   "source": [
    "komo = post_grasp_komo(C, 'l_gripper', 'cargo', q0, qHome)\n",
    "path = komo.getPath()\n",
    "bot = ry.BotOp(C, useRealRobot=False)"
   ]
  },
  {
   "cell_type": "code",
   "execution_count": 519,
   "metadata": {},
   "outputs": [
    {
     "name": "stdout",
     "output_type": "stream",
     "text": [
      "(3, 7)\n",
      "Initial end time:1.5 sleep time:0.30000000000000004 and end end time:1.29\n"
     ]
    }
   ],
   "source": [
    "# time.sleep(5)\n",
    "# bot.home(C)\n",
    "# # print(path.shape)\n",
    "# bot.move(path0, [1.])\n",
    "# while bot.getTimeToEnd() > 0:\n",
    "#     bot.sync(C, .1)\n",
    "\n",
    "# #bot.gripperCloseGrasp(ry._left, 'cargo',speed=1000000000000,width=0.04)\n",
    "# bot.gripperClose(ry._left,width=0.06) \n",
    "# while not bot.gripperDone(ry._left):\n",
    "#     bot.sync(C, .1)\n",
    "# bot.move(path, [3.])\n",
    "# while bot.getTimeToEnd() > 0:\n",
    "#     bot.sync(C, .1)\n",
    "# #C.getFrame('cargo').unLink()\n",
    "# C.attach('l_gripper', 'cargo')\n",
    "\n",
    "\n",
    "shape = path0.shape[0]*0.1\n",
    "print(path0.shape)\n",
    "bot.move(path0, [1.])\n",
    "start = bot.getTimeToEnd()\n",
    "time.sleep(shape)\n",
    "end = bot.getTimeToEnd()\n",
    "while bot.getTimeToEnd() > 0:\n",
    "    bot.sync(C, .1)\n",
    "print(f\"Initial end time:{start} sleep time:{shape} and end end time:{end}\")\n",
    "#bot.gripperCloseGrasp(ry._left, 'cargo',speed=1000000000000,width=0.04)\n",
    "bot.gripperClose(ry._left,width=0.06) \n",
    "while not bot.gripperDone(ry._left):\n",
    "    bot.sync(C, .1)\n",
    "bot.move(path, [3.])\n",
    "while bot.getTimeToEnd() > 0:\n",
    "    bot.sync(C, .1)\n",
    "#C.getFrame('cargo').unLink()\n",
    "C.attach('l_gripper', 'cargo')\n",
    "\n",
    "# #For throwing\n",
    "# time_deviation = shape / (start-end)\n",
    "\n",
    "# sleep_val = 0.6\n",
    "# time_sleep = 0.6 * time_deviation\n",
    "# print(f\"Sleeping for {time_sleep}\")"
   ]
  },
  {
   "cell_type": "markdown",
   "metadata": {},
   "source": [
    "### Standardised Time sleep"
   ]
  },
  {
   "cell_type": "code",
   "execution_count": 520,
   "metadata": {},
   "outputs": [
    {
     "name": "stdout",
     "output_type": "stream",
     "text": [
      "Sleeping for 0.785714285714286\n"
     ]
    }
   ],
   "source": [
    "#For throwing\n",
    "time_deviation = shape / (start-end)\n",
    "\n",
    "sleep_val = 0.55\n",
    "time_sleep = sleep_val * time_deviation\n",
    "print(f\"Sleeping for {time_sleep}\")"
   ]
  },
  {
   "cell_type": "code",
   "execution_count": 521,
   "metadata": {},
   "outputs": [],
   "source": [
    "# Add frame for the release position\n",
    "release_frame = C.getFrame('release_frame')\n",
    "# release_frame.setShape(ry.ST.marker, size=[0])\n",
    "# release_frame.setPosition(initial_pos)\n",
    "C.view()\n",
    "time.sleep(1)"
   ]
  },
  {
   "cell_type": "code",
   "execution_count": 522,
   "metadata": {},
   "outputs": [
    {
     "name": "stdout",
     "output_type": "stream",
     "text": [
      "ret!!!: { time: 0.012432, evals: 177, done: 1, feasible: 1, sos: 1.68805, f: 0, ineq: 0, eq: 0.0215009 }\n",
      "path size: 7\n",
      "bot initial end time:1.0\n",
      "bot end time:0.5500000000000096\n",
      "bot end time:0.5500000000000096\n"
     ]
    }
   ],
   "source": [
    "#code for calculating velocity\n",
    "def vel_komo():\n",
    "    q0 = C.getJointState()\n",
    "    komo = ry.KOMO(C, 1, 1, 1, True)\n",
    "    # komo.addObjective([], ry.FS.position, [\"l_gripper\"], ry.OT.eq, [1e-1], [4.2,-3.5,4],1)\n",
    "    komo.addObjective([], ry.FS.position, [\"l_gripper\"], ry.OT.eq, [1e-1], np.array(velocity),1)\n",
    "    komo.addObjective([],ry.FS.positionDiff,[\"l_gripper\",\"release_frame\"],ry.OT.sos,[1e0],[0,0,0])\n",
    "    ret2 = ry.NLP_Solver(komo.nlp()).setOptions(stopTolerance=1e-2, verbose=4).solve()\n",
    "    #komo.addObjective([1.],ry.FS.scalarProductXZ,[\"base\",\"l_gripper\"],ry.OT.eq,[1e1],[-1],0)\n",
    "    #print(komo.report())\n",
    "    print(f\"ret!!!: {ret2}\")\n",
    "    return komo\n",
    "komo = vel_komo()\n",
    "gripper_frame = C.getFrame(\"l_gripper\")\n",
    "# bot = ry.BotOp(C,False)\n",
    "# time.sleep(5)\n",
    "path = komo.getPath()\n",
    "print(f\"path size: {path.size}\")\n",
    "bot.move(path,[1.])\n",
    "print(f\"bot initial end time:{bot.getTimeToEnd()}\")\n",
    "time.sleep(time_sleep)\n",
    "bot.sync(C,0.001)\n",
    "print(f\"bot end time:{bot.getTimeToEnd()}\")\n",
    "bot.gripperMove(ry._left,width=1)\n",
    "C.addFrame(\"actual_release\").setPosition(gripper_frame.getPosition()).setShape(ry.ST.marker,[.2]).setColor([1,1,0])\n",
    "\n",
    "print(f\"bot end time:{bot.getTimeToEnd()}\")\n",
    "while bot.getTimeToEnd()>0:\n",
    "    bot.sync(C,.1)"
   ]
  },
  {
   "cell_type": "code",
   "execution_count": 523,
   "metadata": {},
   "outputs": [],
   "source": [
    "time.sleep(4.5*time_sleep)\n",
    "# del C\n",
    "# del bot"
   ]
  }
 ],
 "metadata": {
  "kernelspec": {
   "display_name": "rai_venv",
   "language": "python",
   "name": "python3"
  },
  "language_info": {
   "codemirror_mode": {
    "name": "ipython",
    "version": 3
   },
   "file_extension": ".py",
   "mimetype": "text/x-python",
   "name": "python",
   "nbconvert_exporter": "python",
   "pygments_lexer": "ipython3",
   "version": "3.8.10"
  }
 },
 "nbformat": 4,
 "nbformat_minor": 2
}
